{
 "cells": [
  {
   "cell_type": "code",
   "execution_count": 1,
   "id": "705937ff",
   "metadata": {},
   "outputs": [],
   "source": [
    "import turtle as t\n",
    "import random\n",
    "t.Turtle()\n",
    "\n",
    "color_list = [(236, 248, 243), (36, 95, 183), (236, 165, 79), (244, 223, 87), (215, 69, 105), (98, 197, 234),\n",
    "              (250, 51, 22), (203, 70, 21), (240, 106, 143), (185, 47, 90), (143, 233, 216), (252, 136, 166),\n",
    "              (165, 175, 233), (66, 45, 13), (72, 205, 170), (83, 187, 100), (20, 156, 51), (24, 36, 86), (252, 220, 0),\n",
    "              (164, 28, 8), (105, 39, 44), (250, 152, 2), (22, 151, 229), (108, 213, 249), (254, 12, 3), (38, 48, 98),\n",
    "              (98, 96, 186)]\n",
    "\n",
    "random_color = (random.choice(color_list))\n",
    "t.colormode(255)\n",
    "t.penup()\n",
    "t.speed(\"fastest\")\n",
    "t.hideturtle()\n",
    "\n",
    "\n",
    "def left_up():\n",
    "    t.setheading(90)\n",
    "    t.forward(50)\n",
    "    t.setheading(0)\n",
    "\n",
    "\n",
    "def right_up():\n",
    "    t.setheading(90)\n",
    "    t.forward(50)\n",
    "    t.setheading(180)\n",
    "\n",
    "\n",
    "for _ in range(5):\n",
    "    for _ in range(10):\n",
    "        t.dot(20, (random.choice(color_list)))\n",
    "        t.setheading(180)\n",
    "        t.forward(50)\n",
    "    left_up()\n",
    "    for _ in range(10):\n",
    "        t.forward(50)\n",
    "        t.dot(20, (random.choice(color_list)))\n",
    "    right_up()\n",
    "\n",
    "\n",
    "screen = t.Screen()\n",
    "screen.exitonclick()"
   ]
  },
  {
   "cell_type": "code",
   "execution_count": null,
   "id": "44f2f53e",
   "metadata": {},
   "outputs": [],
   "source": []
  }
 ],
 "metadata": {
  "kernelspec": {
   "display_name": "Python 3 (ipykernel)",
   "language": "python",
   "name": "python3"
  },
  "language_info": {
   "codemirror_mode": {
    "name": "ipython",
    "version": 3
   },
   "file_extension": ".py",
   "mimetype": "text/x-python",
   "name": "python",
   "nbconvert_exporter": "python",
   "pygments_lexer": "ipython3",
   "version": "3.9.12"
  }
 },
 "nbformat": 4,
 "nbformat_minor": 5
}
