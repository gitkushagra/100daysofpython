{
  "nbformat": 4,
  "nbformat_minor": 0,
  "metadata": {
    "colab": {
      "name": "Treasure Island.ipynb",
      "provenance": [],
      "collapsed_sections": [],
      "authorship_tag": "ABX9TyN2GOUQqz/4BcNTChapvsku",
      "include_colab_link": true
    },
    "kernelspec": {
      "name": "python3",
      "display_name": "Python 3"
    },
    "language_info": {
      "name": "python"
    }
  },
  "cells": [
    {
      "cell_type": "markdown",
      "metadata": {
        "id": "view-in-github",
        "colab_type": "text"
      },
      "source": [
        "<a href=\"https://colab.research.google.com/github/gitkushagra/100daysofpython/blob/main/(Day3)Treasure_Island.ipynb\" target=\"_parent\"><img src=\"https://colab.research.google.com/assets/colab-badge.svg\" alt=\"Open In Colab\"/></a>"
      ]
    },
    {
      "cell_type": "code",
      "execution_count": 1,
      "metadata": {
        "colab": {
          "base_uri": "https://localhost:8080/"
        },
        "id": "x8eL9-vW0vHP",
        "outputId": "b8bf175a-7a6d-4143-83ac-2f02c3bc4866"
      },
      "outputs": [
        {
          "output_type": "stream",
          "name": "stdout",
          "text": [
            "Which number do you want to check? 1\n",
            "This is an odd number.\n"
          ]
        }
      ],
      "source": [
        "50# 🚨 Don't change the code below 👇\n",
        "number = int(input(\"Which number do you want to check? \"))\n",
        "# 🚨 Don't change the code above 👆\n",
        "\n",
        "#Write your code below this line 👇\n",
        "if number%2==0:\n",
        "  print(\"This is an even number.\")\n",
        "else:\n",
        "  print(\"This is an odd number.\")"
      ]
    },
    {
      "cell_type": "code",
      "source": [
        "# BMI 2.0\n",
        "# 🚨 Don't change the code below 👇\n",
        "height = float(input(\"enter your height in m: \"))\n",
        "weight = float(input(\"enter your weight in kg: \"))\n",
        "# 🚨 Don't change the code above 👆\n",
        "\n",
        "#Write your code below this line 👇\n",
        "bmi = weight/height**2\n",
        "print(f\"{weight} ÷ ({height} x {height}) = {bmi}\")\n",
        "if bmi<=18.5:\n",
        "  print(f\"Your BMI is {round(bmi)} you are underweight.\")\n",
        "elif (bmi>18.5 and bmi <= 25):\n",
        "  print(f\"Your BMI is {round(bmi)}, you have a normal weight.\")\n",
        "elif (bmi>25 and bmi<=30):\n",
        "  print(f\"Your BMI is {round(bmi)}, you are slightly overweight.\")\n",
        "elif (bmi >30 and bmi<=35):\n",
        "  print(f\"Your BMI is {round(bmi)}, you are obese.\")\n",
        "else:\n",
        "  print(f\"Your BMI is {round(bmi)}, you are clinically obese.\")"
      ],
      "metadata": {
        "colab": {
          "base_uri": "https://localhost:8080/"
        },
        "id": "yzisw1vz06_B",
        "outputId": "e5dbb1cc-f1d1-4ef0-ba3b-33aa62becbf1"
      },
      "execution_count": 2,
      "outputs": [
        {
          "output_type": "stream",
          "name": "stdout",
          "text": [
            "enter your height in m: 1\n",
            "enter your weight in kg: 50\n",
            "50.0 ÷ (1.0 x 1.0) = 50.0\n",
            "Your BMI is 50, you are clinically obese.\n"
          ]
        }
      ]
    },
    {
      "cell_type": "code",
      "source": [
        "# 🚨 Don't change the code below 👇\n",
        "year = int(input(\"Which year do you want to check? \"))\n",
        "# 🚨 Don't change the code above 👆\n",
        "\n",
        "#Write your code below this line 👇\n",
        "if ((year % 4 == 0 and year % 100 != 0) or (year % 400 == 0)):\n",
        "  print(\"Leap year.\")\n",
        "\n",
        "else:\n",
        "  print(\"Not leap year.\")"
      ],
      "metadata": {
        "colab": {
          "base_uri": "https://localhost:8080/"
        },
        "id": "xrNwq67B09X-",
        "outputId": "50a0aef2-b08b-48da-84a5-e5416f860889"
      },
      "execution_count": 3,
      "outputs": [
        {
          "output_type": "stream",
          "name": "stdout",
          "text": [
            "Which year do you want to check? 2020\n",
            "Leap year.\n"
          ]
        }
      ]
    },
    {
      "cell_type": "code",
      "source": [
        "# 🚨 Don't change the code below 👇\n",
        "print(\"Welcome to Python Pizza Deliveries!\")\n",
        "size = input(\"What size pizza do you want? S, M, or L \")\n",
        "add_pepperoni = input(\"Do you want pepperoni? Y or N \")\n",
        "extra_cheese = input(\"Do you want extra cheese? Y or N \")\n",
        "# 🚨 Don't change the code above 👆\n",
        "\n",
        "#Write your code below this line 👇\n",
        "bill = 0\n",
        "if(size == \"S\" or size == \"s\"):\n",
        "  bill = 15\n",
        "if(size == \"M\" or size == \"m\"):\n",
        "  bill = 20\n",
        "if(size == \"L\" or size == \"l\"):\n",
        "  bill = 25\n",
        "if(add_pepperoni == \"Y\" and (size == \"S\" or size == \"s\")):\n",
        "  bill += 2\n",
        "if(add_pepperoni == \"Y\" and (size == \"M\" or size == \"m\" or size == \"L\" or size == \"l\" )):\n",
        "  bill += 3\n",
        "if extra_cheese == \"Y\":\n",
        "  bill += 1\n",
        "print(f\"Your final bill is: ${bill}.\")"
      ],
      "metadata": {
        "colab": {
          "base_uri": "https://localhost:8080/"
        },
        "id": "RSvvP01B1DF_",
        "outputId": "1ee52707-ce4f-48d7-fac2-449676375b37"
      },
      "execution_count": 4,
      "outputs": [
        {
          "output_type": "stream",
          "name": "stdout",
          "text": [
            "Welcome to Python Pizza Deliveries!\n",
            "What size pizza do you want? S, M, or L L\n",
            "Do you want pepperoni? Y or N Y\n",
            "Do you want extra cheese? Y or N Y\n",
            "Your final bill is: $29.\n"
          ]
        }
      ]
    },
    {
      "cell_type": "code",
      "source": [
        "# 🚨 Don't change the code below 👇\n",
        "print(\"Welcome to the Love Calculator!\")\n",
        "name1 = input(\"What is your name? \\n\")\n",
        "name2 = input(\"What is their name? \\n\")\n",
        "# 🚨 Don't change the code above 👆\n",
        "\n",
        "#Write your code below this line 👇\n",
        "name =name1+name2\n",
        "lowerName = name.lower()\n",
        "true = 0\n",
        "love = 0\n",
        "for i in range(len(lowerName)):\n",
        "  if (lowerName[i] == \"t\" or lowerName[i] == \"r\" or lowerName[i] == \"u\" or lowerName[i] == \"e\"):\n",
        "    true += 1\n",
        "    \n",
        "for i in range(len(lowerName)):\n",
        "  if (lowerName[i] == \"l\" or lowerName[i] == \"o\" or lowerName[i] == \"v\" or lowerName[i] == \"e\"):\n",
        "    love += 1\n",
        "\n",
        "score = str(true)+str(love)\n",
        "if (int(score)<10 or int(score)>90):\n",
        "  print(f\"Your score is {score}, you go together like coke and mentos.\")\n",
        "elif (int(score)>=40 and int(score)<=50):\n",
        "  print(f\"Your score is {score}, you are alright together.\")\n",
        "else:\n",
        "  print(f\"Your score is {score}.\")"
      ],
      "metadata": {
        "colab": {
          "base_uri": "https://localhost:8080/"
        },
        "id": "WGefZoGu1Kgu",
        "outputId": "23fa375d-c3c2-4730-8256-ac3fb1b3da3c"
      },
      "execution_count": 5,
      "outputs": [
        {
          "output_type": "stream",
          "name": "stdout",
          "text": [
            "Welcome to the Love Calculator!\n",
            "What is your name? \n",
            "Kushagra\n",
            "What is their name? \n",
            "Medha\n",
            "Your score is 31.\n"
          ]
        }
      ]
    },
    {
      "cell_type": "code",
      "source": [
        "print('''\n",
        "*******************************************************************************\n",
        "          |                   |                  |                     |\n",
        " _________|________________.=\"\"_;=.______________|_____________________|_______\n",
        "|                   |  ,-\"_,=\"\"     `\"=.|                  |\n",
        "|___________________|__\"=._o`\"-._        `\"=.______________|___________________\n",
        "          |                `\"=._o`\"=._      _`\"=._                     |\n",
        " _________|_____________________:=._o \"=._.\"_.-=\"'\"=.__________________|_______\n",
        "|                   |    __.--\" , ; `\"=._o.\" ,-\"\"\"-._ \".   |\n",
        "|___________________|_._\"  ,. .` ` `` ,  `\"-._\"-._   \". '__|___________________\n",
        "          |           |o`\"=._` , \"` `; .\". ,  \"-._\"-._; ;              |\n",
        " _________|___________| ;`-.o`\"=._; .\" ` '`.\"\\` . \"-._ /_______________|_______\n",
        "|                   | |o;    `\"-.o`\"=._``  '` \" ,__.--o;   |\n",
        "|___________________|_| ;     (#) `-.o `\"=.`_.--\"_o.-; ;___|___________________\n",
        "____/______/______/___|o;._    \"      `\".o|o_.--\"    ;o;____/______/______/____\n",
        "/______/______/______/_\"=._o--._        ; | ;        ; ;/______/______/______/_\n",
        "____/______/______/______/__\"=._o--._   ;o|o;     _._;o;____/______/______/____\n",
        "/______/______/______/______/____\"=._o._; | ;_.--\"o.--\"_/______/______/______/_\n",
        "____/______/______/______/______/_____\"=.o|o_.--\"\"___/______/______/______/____\n",
        "/______/______/______/______/______/______/______/______/______/______/_____ /\n",
        "*******************************************************************************\n",
        "''')\n",
        "print(\"Welcome to Treasure Island.\")\n",
        "print(\"Your mission is to find the treasure.\") \n",
        "\n",
        "#https://www.draw.io/?lightbox=1&highlight=0000ff&edit=_blank&layers=1&nav=1&title=Treasure%20Island%20Conditional.drawio#Uhttps%3A%2F%2Fdrive.google.com%2Fuc%3Fid%3D1oDe4ehjWZipYRsVfeAx2HyB7LCQ8_Fvi%26export%3Ddownload\n",
        "\n",
        "#Write your code below this line 👇\n",
        "take1 = (input(\"You're at a crossroad. Where do you want to go? Type 'left' or 'right'\")).lower()\n",
        "if(take1 == \"left\"):\n",
        "  take2 = (input(\"You've come to a lake. There is an island in the middle of the lake. Type 'wait' to wait for a boat. Type 'swim' to swim across.\")).lower()\n",
        "  if(take2 == \"wait\"):\n",
        "    take3 = (input(\"You arrive at the island unharmed. There is a house with 3 doors. One red, one yellow and one blue. Which colour do you choose?\"))\n",
        "    if(take3 == \"red\"):\n",
        "      print(\"Burned with fire. Game Over!\")\n",
        "    elif(take3 == \"blue\"):\n",
        "      print(\"Eaten by beasts. Game Over!\")\n",
        "    elif(take3 == \"yellow\"):\n",
        "      print(\"You Win!\")\n",
        "    else:\n",
        "      print(\"Game Ovder!\")\n",
        "  else:\n",
        "    print(\"Attacked by trout. Game Over!\")\n",
        "\n",
        "else:\n",
        "  print(\"Fall into a hole. Game Over!\")"
      ],
      "metadata": {
        "colab": {
          "base_uri": "https://localhost:8080/"
        },
        "id": "rzXUWH_q1Q4n",
        "outputId": "3e67e380-6658-4e28-ad33-ad89f985f86a"
      },
      "execution_count": 6,
      "outputs": [
        {
          "output_type": "stream",
          "name": "stdout",
          "text": [
            "\n",
            "*******************************************************************************\n",
            "          |                   |                  |                     |\n",
            " _________|________________.=\"\"_;=.______________|_____________________|_______\n",
            "|                   |  ,-\"_,=\"\"     `\"=.|                  |\n",
            "|___________________|__\"=._o`\"-._        `\"=.______________|___________________\n",
            "          |                `\"=._o`\"=._      _`\"=._                     |\n",
            " _________|_____________________:=._o \"=._.\"_.-=\"'\"=.__________________|_______\n",
            "|                   |    __.--\" , ; `\"=._o.\" ,-\"\"\"-._ \".   |\n",
            "|___________________|_._\"  ,. .` ` `` ,  `\"-._\"-._   \". '__|___________________\n",
            "          |           |o`\"=._` , \"` `; .\". ,  \"-._\"-._; ;              |\n",
            " _________|___________| ;`-.o`\"=._; .\" ` '`.\"\\` . \"-._ /_______________|_______\n",
            "|                   | |o;    `\"-.o`\"=._``  '` \" ,__.--o;   |\n",
            "|___________________|_| ;     (#) `-.o `\"=.`_.--\"_o.-; ;___|___________________\n",
            "____/______/______/___|o;._    \"      `\".o|o_.--\"    ;o;____/______/______/____\n",
            "/______/______/______/_\"=._o--._        ; | ;        ; ;/______/______/______/_\n",
            "____/______/______/______/__\"=._o--._   ;o|o;     _._;o;____/______/______/____\n",
            "/______/______/______/______/____\"=._o._; | ;_.--\"o.--\"_/______/______/______/_\n",
            "____/______/______/______/______/_____\"=.o|o_.--\"\"___/______/______/______/____\n",
            "/______/______/______/______/______/______/______/______/______/______/_____ /\n",
            "*******************************************************************************\n",
            "\n",
            "Welcome to Treasure Island.\n",
            "Your mission is to find the treasure.\n",
            "You're at a crossroad. Where do you want to go? Type 'left' or 'right'lehb\n",
            "Fall into a hole. Game Over!\n"
          ]
        }
      ]
    },
    {
      "cell_type": "code",
      "source": [
        "print(\"Love Calculator!\")\n",
        "name1 = input(\"Enter Name 1: \")\n",
        "name2 = input(\"Enter Name 2: \")\n",
        "name = (name1+name2).lower()\n",
        "t = name.count(\"t\")\n",
        "r = name.count(\"r\")\n",
        "u = name.count(\"u\")\n",
        "e = name.count(\"e\")\n",
        "l = name.count(\"l\")\n",
        "o = name.count(\"o\")\n",
        "v = name.count(\"v\")\n",
        "true = t+r+u+e\n",
        "love = l+o+v+e\n",
        "print(\"Your score is: \"+str(true)+str(love)+\"%\")"
      ],
      "metadata": {
        "colab": {
          "base_uri": "https://localhost:8080/"
        },
        "id": "5ldlG_cU16Ji",
        "outputId": "582cafb9-e230-4e93-e629-65d190b61e42"
      },
      "execution_count": 7,
      "outputs": [
        {
          "output_type": "stream",
          "name": "stdout",
          "text": [
            "Love Calculator!\n",
            "Enter Name 1: Spider Man\n",
            "Enter Name 2: Kushagra\n",
            "Your score is: 41%\n"
          ]
        }
      ]
    }
  ]
}