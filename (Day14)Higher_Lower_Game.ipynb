{
  "nbformat": 4,
  "nbformat_minor": 0,
  "metadata": {
    "colab": {
      "name": "Higher Lower Game.ipynb",
      "provenance": [],
      "collapsed_sections": [],
      "authorship_tag": "ABX9TyPyDfG1rEEIGcBP0bkaxvz/",
      "include_colab_link": true
    },
    "kernelspec": {
      "name": "python3",
      "display_name": "Python 3"
    },
    "language_info": {
      "name": "python"
    }
  },
  "cells": [
    {
      "cell_type": "markdown",
      "metadata": {
        "id": "view-in-github",
        "colab_type": "text"
      },
      "source": [
        "<a href=\"https://colab.research.google.com/github/gitkushagra/100daysofpython/blob/main/(Day14)Higher_Lower_Game.ipynb\" target=\"_parent\"><img src=\"https://colab.research.google.com/assets/colab-badge.svg\" alt=\"Open In Colab\"/></a>"
      ]
    },
    {
      "cell_type": "code",
      "execution_count": 1,
      "metadata": {
        "colab": {
          "base_uri": "https://localhost:8080/"
        },
        "id": "odcYwcQKGdBX",
        "outputId": "4aa895fc-9235-4d0e-e7b2-182ebbd99a1d"
      },
      "outputs": [
        {
          "output_type": "stream",
          "name": "stdout",
          "text": [
            "Element is dfb\n"
          ]
        }
      ],
      "source": [
        "import random\n",
        "dictu = [{\"one\": \"efh\",\"two\":\"djf\"},{\"one\":\"dfb\",\"two\":\"sfg\"}]\n",
        "choice = random.choice(dictu)\n",
        "print(\"Element is {one}\".format(**choice))"
      ]
    },
    {
      "cell_type": "code",
      "source": [
        "person = {'name': 'Jenne', 'age': 23}\n",
        "print('My name is {name} and my age is {age}.'.format(**person))"
      ],
      "metadata": {
        "colab": {
          "base_uri": "https://localhost:8080/"
        },
        "id": "UMSoq9kmGwcv",
        "outputId": "70d94fab-9a10-4d62-eab4-b35aefe792f6"
      },
      "execution_count": 2,
      "outputs": [
        {
          "output_type": "stream",
          "name": "stdout",
          "text": [
            "My name is Jenne and my age is 23.\n"
          ]
        }
      ]
    },
    {
      "cell_type": "code",
      "source": [
        "## MAIN PROJECT\n",
        "import art\n",
        "import game_data\n",
        "import random\n",
        "#from replit import clear\n",
        "\n",
        "print(art.logo)\n",
        "score = 0\n",
        "check = True\n",
        "while check:\n",
        "  dictu1 = random.choice(game_data.data)\n",
        "  dictu2 = random.choice(game_data.data)\n",
        "  condition = True\n",
        "  while condition:\n",
        "    if dictu1 == dictu2:\n",
        "      dictu2 = random.choice(game_data.data)\n",
        "    elif dictu1 != dictu2:\n",
        "      condition = False\n",
        "  print(\"Compare A: {name} ,{description}\".format(**dictu1))\n",
        "  print(art.vs)\n",
        "  print(\"Against B: {name}, {description}\".format(**dictu2))\n",
        "  \n",
        "  choice = input(\"Who has more followers? Type 'A' or 'B'.\")\n",
        "  if dictu1[\"follower_count\"] > dictu2[\"follower_count\"]:\n",
        "    if choice == 'A':\n",
        "      #clear()\n",
        "      #print(art.logo)\n",
        "      score += 1\n",
        "      print(f\"You are right! current score {score}\")\n",
        "    else:\n",
        "      #clear()\n",
        "      #print(art.logo)\n",
        "      print(f\"Sorry! that is wrong! Your final score: {score}\")\n",
        "      check = False\n",
        "  elif dictu1[\"follower_count\"] < dictu2[\"follower_count\"]:\n",
        "    if choice == 'B':\n",
        "      #clear()\n",
        "      #print(art.logo)\n",
        "      score += 1\n",
        "      print(f\"You are right! current score {score}\")\n",
        "    else:\n",
        "      #clear()\n",
        "      #print(art.logo)\n",
        "      print(f\"Sorry! that is wrong! Your final score: {score}\")\n",
        "      check = False"
      ],
      "metadata": {
        "colab": {
          "base_uri": "https://localhost:8080/"
        },
        "id": "hhsnmedZG6k-",
        "outputId": "fa00a627-0ab2-44f9-dff4-8939d08f8061"
      },
      "execution_count": 4,
      "outputs": [
        {
          "output_type": "stream",
          "name": "stdout",
          "text": [
            "\n",
            "    __  ___       __             \n",
            "   / / / (_)___ _/ /_  ___  _____\n",
            "  / /_/ / / __ `/ __ \\/ _ \\/ ___/\n",
            " / __  / / /_/ / / / /  __/ /    \n",
            "/_/ ///_/\\__, /_/ /_/\\___/_/     \n",
            "   / /  /____/_      _____  _____\n",
            "  / /   / __ \\ | /| / / _ \\/ ___/\n",
            " / /___/ /_/ / |/ |/ /  __/ /    \n",
            "/_____/\\____/|__/|__/\\___/_/     \n",
            "\n",
            "Compare A: David Beckham ,Footballer\n",
            "\n",
            " _    __    \n",
            "| |  / /____\n",
            "| | / / ___/\n",
            "| |/ (__  ) \n",
            "|___/____(_)\n",
            "\n",
            "Against B: Justin Bieber, Musician\n",
            "Who has more followers? Type 'A' or 'B'.B\n",
            "You are right! current score 1\n",
            "Compare A: Beyoncé ,Musician\n",
            "\n",
            " _    __    \n",
            "| |  / /____\n",
            "| | / / ___/\n",
            "| |/ (__  ) \n",
            "|___/____(_)\n",
            "\n",
            "Against B: Nicki Minaj, Musician\n",
            "Who has more followers? Type 'A' or 'B'.A\n",
            "You are right! current score 2\n",
            "Compare A: 9GAG ,Social media platform\n",
            "\n",
            " _    __    \n",
            "| |  / /____\n",
            "| | / / ___/\n",
            "| |/ (__  ) \n",
            "|___/____(_)\n",
            "\n",
            "Against B: Kendall Jenner, Reality TV personality and Model\n",
            "Who has more followers? Type 'A' or 'B'.A\n",
            "Sorry! that is wrong! Your final score: 2\n"
          ]
        }
      ]
    }
  ]
}