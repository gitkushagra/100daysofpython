{
  "nbformat": 4,
  "nbformat_minor": 0,
  "metadata": {
    "colab": {
      "name": "Tip Calculator.ipynb",
      "provenance": [],
      "collapsed_sections": [],
      "authorship_tag": "ABX9TyPlt2MY3HLPh6tgQqkHNOlF",
      "include_colab_link": true
    },
    "kernelspec": {
      "name": "python3",
      "display_name": "Python 3"
    },
    "language_info": {
      "name": "python"
    }
  },
  "cells": [
    {
      "cell_type": "markdown",
      "metadata": {
        "id": "view-in-github",
        "colab_type": "text"
      },
      "source": [
        "<a href=\"https://colab.research.google.com/github/gitkushagra/100daysofpython/blob/main/(Day2)Tip_Calculator.ipynb\" target=\"_parent\"><img src=\"https://colab.research.google.com/assets/colab-badge.svg\" alt=\"Open In Colab\"/></a>"
      ]
    },
    {
      "cell_type": "code",
      "execution_count": 1,
      "metadata": {
        "colab": {
          "base_uri": "https://localhost:8080/"
        },
        "id": "XKwESI4B0DA_",
        "outputId": "b2a7d6b8-2f25-43bb-ce0b-9060eba25b5f"
      },
      "outputs": [
        {
          "output_type": "stream",
          "name": "stdout",
          "text": [
            "enter your height in m: 25\n",
            "enter your weight in kg: 25\n",
            "0\n"
          ]
        }
      ],
      "source": [
        "#BMI Calculator\n",
        "# 🚨 Don't change the code below 👇\n",
        "height = input(\"enter your height in m: \")\n",
        "weight = input(\"enter your weight in kg: \")\n",
        "# 🚨 Don't change the code above 👆\n",
        "\n",
        "#Write your code below this line \n",
        "h = float(height)\n",
        "w = float(weight)\n",
        "print(int(w/(h**2)))"
      ]
    },
    {
      "cell_type": "code",
      "source": [
        "# 🚨 Don't change the code below 👇\n",
        "age = input(\"What is your current age?\")\n",
        "# 🚨 Don't change the code above 👆\n",
        "\n",
        "#Write your code below this line 👇\n",
        "left = 90 - int(age)\n",
        "days = left * 365\n",
        "weeks = left * 52\n",
        "months = left * 12\n",
        "print(f\"You have {days} days, {weeks} weeks, and {months} months left.\")"
      ],
      "metadata": {
        "colab": {
          "base_uri": "https://localhost:8080/"
        },
        "id": "fBPwKvXO0Ix-",
        "outputId": "27ba55a1-48d0-4f4b-f154-20dbae63b98e"
      },
      "execution_count": 2,
      "outputs": [
        {
          "output_type": "stream",
          "name": "stdout",
          "text": [
            "What is your current age?18\n",
            "You have 26280 days, 3744 weeks, and 864 months left.\n"
          ]
        }
      ]
    },
    {
      "cell_type": "code",
      "source": [
        "#If the bill was $150.00, split between 5 people, with 12% tip. \n",
        "#Each person should pay (150.00 / 5) * 1.12 = 33.6\n",
        "#Format the result to 2 decimal places = 33.60\n",
        "\n",
        "#Tip: There are 2 ways to round a number. You might have to do some Googling to solve this.💪\n",
        "\n",
        "#Write your code below this line 👇\n",
        "print(\"Welcome to the tip calculator!\")\n",
        "bill =float(input(\"What was the total bill? $\"))\n",
        "percent = float(input(\"How much tip would you like to give? 10, 12, or 15? \"))\n",
        "num = float(input(\"How many people to split the bill?   \"))\n",
        "pay = round(((bill*(100+percent)/100)/num),2)\n",
        "print(f\"Each person should pay: ${pay}\")\n",
        "#no googling done"
      ],
      "metadata": {
        "colab": {
          "base_uri": "https://localhost:8080/"
        },
        "id": "dDjlVCdp0LyN",
        "outputId": "8ec3b497-7a04-4788-c635-a45ad1c88c3b"
      },
      "execution_count": 4,
      "outputs": [
        {
          "output_type": "stream",
          "name": "stdout",
          "text": [
            "Welcome to the tip calculator!\n",
            "What was the total bill? $0.1\n",
            "How much tip would you like to give? 10, 12, or 15? 101\n",
            "How many people to split the bill?   3\n",
            "Each person should pay: $0.07\n"
          ]
        }
      ]
    }
  ]
}