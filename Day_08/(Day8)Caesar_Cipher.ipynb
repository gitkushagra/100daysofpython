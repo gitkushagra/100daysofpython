{
  "nbformat": 4,
  "nbformat_minor": 0,
  "metadata": {
    "colab": {
      "name": "Caesar Cipher.ipynb",
      "provenance": [],
      "collapsed_sections": [],
      "authorship_tag": "ABX9TyPY1x4Tepi7sx/gs/SfflQ6",
      "include_colab_link": true
    },
    "kernelspec": {
      "name": "python3",
      "display_name": "Python 3"
    },
    "language_info": {
      "name": "python"
    }
  },
  "cells": [
    {
      "cell_type": "markdown",
      "metadata": {
        "id": "view-in-github",
        "colab_type": "text"
      },
      "source": [
        "<a href=\"https://colab.research.google.com/github/gitkushagra/100daysofpython/blob/main/(Day8)Caesar_Cipher.ipynb\" target=\"_parent\"><img src=\"https://colab.research.google.com/assets/colab-badge.svg\" alt=\"Open In Colab\"/></a>"
      ]
    },
    {
      "cell_type": "code",
      "execution_count": 1,
      "metadata": {
        "colab": {
          "base_uri": "https://localhost:8080/"
        },
        "id": "icDdYMZKAx2g",
        "outputId": "2cc469d8-5f8d-40c1-8524-cb22d4d0140a"
      },
      "outputs": [
        {
          "output_type": "stream",
          "name": "stdout",
          "text": [
            "Welcome!\n",
            "Welcome!\n",
            "Welcome!\n"
          ]
        }
      ],
      "source": [
        "# Review: \n",
        "# Create a function called greet(). \n",
        "# Write 3 print statements inside the function.\n",
        "# Call the greet() function and run your code.\n",
        "def greet():\n",
        "  for _ in range(3):\n",
        "    print(\"Welcome!\")\n",
        "\n",
        "greet()"
      ]
    },
    {
      "cell_type": "code",
      "source": [
        "# FUNCTION WITH ONE INPUT\n",
        "def greet(name):\n",
        "    print(f\"Hi {name}\")\n",
        "    print(f\"How do you do? {name}\")\n",
        "user = input(\"What are you called by your parents?\\n\")\n",
        "greet(user)"
      ],
      "metadata": {
        "colab": {
          "base_uri": "https://localhost:8080/"
        },
        "id": "4XHtyQA5A4Sl",
        "outputId": "db54b09e-c75b-432f-b7f8-792ec2636b0b"
      },
      "execution_count": 2,
      "outputs": [
        {
          "output_type": "stream",
          "name": "stdout",
          "text": [
            "What are you called by your parents?\n",
            "Harsh\n",
            "Hi Harsh\n",
            "How do you do? Harsh\n"
          ]
        }
      ]
    },
    {
      "cell_type": "code",
      "source": [
        "#Simple Function\n",
        "def greet():\n",
        "  print(\"Hello Angela\")\n",
        "  print(\"How do you do Jack Bauer?\")\n",
        "  print(\"Isn't the weather nice today?\")\n",
        "greet()\n",
        "\n",
        "#Function that allows for input\n",
        "#'name' is the parameter.\n",
        "#'Jack Bauer' is the argument.\n",
        "def greet_with_name(name):\n",
        "  print(f\"Hello {name}\")\n",
        "  print(f\"How do you do {name}?\")\n",
        "greet_with_name(\"Jack Bauer\")\n",
        "\n",
        "#Functions with more than 1 input\n",
        "def greet_with(name, location):\n",
        "  print(f\"Hello {name}\")\n",
        "  print(f\"What is it like in {location}?\")\n",
        "\n",
        "#Calling greet_with() with Positional Arguments\n",
        "greet_with(\"Jack Bauer\", \"Nowhere\")\n",
        "#vs.\n",
        "greet_with(\"Nowhere\", \"Jack Bauer\")\n",
        "\n",
        "\n",
        "#Calling greet_with() with Keyword Arguments\n",
        "greet_with(location=\"London\", name=\"Angela\")"
      ],
      "metadata": {
        "colab": {
          "base_uri": "https://localhost:8080/"
        },
        "id": "QYA70tKwBAHT",
        "outputId": "61ee8d16-2f96-4bc3-96f4-faaeb032c62c"
      },
      "execution_count": 3,
      "outputs": [
        {
          "output_type": "stream",
          "name": "stdout",
          "text": [
            "Hello Angela\n",
            "How do you do Jack Bauer?\n",
            "Isn't the weather nice today?\n",
            "Hello Jack Bauer\n",
            "How do you do Jack Bauer?\n",
            "Hello Jack Bauer\n",
            "What is it like in Nowhere?\n",
            "Hello Nowhere\n",
            "What is it like in Jack Bauer?\n",
            "Hello Angela\n",
            "What is it like in London?\n"
          ]
        }
      ]
    },
    {
      "cell_type": "code",
      "source": [
        "#Write your code below this line 👇\n",
        "import math\n",
        "\n",
        "def paint_calc(height,width,cover):\n",
        "  cans = height*width/cover\n",
        "  print(f\"You'll need {math.ceil(cans)} cans of paint.\")\n",
        "      \n",
        "\n",
        "#Write your code above this line 👆\n",
        "# Define a function called paint_calc() so that the code below works.   \n",
        "\n",
        "# 🚨 Don't change the code below 👇\n",
        "test_h = int(input(\"Height of wall: \"))\n",
        "test_w = int(input(\"Width of wall: \"))\n",
        "coverage = 5\n",
        "paint_calc(height=test_h, width=test_w, cover=coverage)"
      ],
      "metadata": {
        "colab": {
          "base_uri": "https://localhost:8080/"
        },
        "id": "wZ-gEyn6BB0b",
        "outputId": "ff10491b-e0ac-4083-cf24-dbe5e9efe72b"
      },
      "execution_count": 5,
      "outputs": [
        {
          "output_type": "stream",
          "name": "stdout",
          "text": [
            "Height of wall: 6\n",
            "Width of wall: 7\n",
            "You'll need 9 cans of paint.\n"
          ]
        }
      ]
    },
    {
      "cell_type": "code",
      "source": [
        "import math\n",
        "print(round(7.4))\n",
        "print(math.ceil(7.4))"
      ],
      "metadata": {
        "colab": {
          "base_uri": "https://localhost:8080/"
        },
        "id": "YU1qPIUNBNDE",
        "outputId": "73bfe4a2-2209-464c-87cd-6a9350ba490e"
      },
      "execution_count": 6,
      "outputs": [
        {
          "output_type": "stream",
          "name": "stdout",
          "text": [
            "7\n",
            "8\n"
          ]
        }
      ]
    },
    {
      "cell_type": "code",
      "source": [
        "#PRIME NUMBER CHECKER\n",
        "#Write your code below this line 👇\n",
        "\n",
        "def prime_checker(number):\n",
        "  chk = False\n",
        "  for i in range(2,number):\n",
        "    if number%i==0:\n",
        "      chk = True\n",
        "      break #saves time\n",
        "  if chk:\n",
        "    print(\"It's not a prime number.\")\n",
        "  else:\n",
        "    print(\"It's a prime number.\")\n",
        "    \n",
        "   \n",
        "\n",
        "\n",
        "\n",
        "\n",
        "\n",
        "\n",
        "#Write your code above this line 👆\n",
        "    \n",
        "#Do NOT change any of the code below👇\n",
        "n = int(input(\"Check this number: \"))\n",
        "prime_checker(number=n)"
      ],
      "metadata": {
        "colab": {
          "base_uri": "https://localhost:8080/"
        },
        "id": "hfTfGLOEBRoq",
        "outputId": "d80e0423-e95a-40d9-d849-72a935dee5da"
      },
      "execution_count": 7,
      "outputs": [
        {
          "output_type": "stream",
          "name": "stdout",
          "text": [
            "Check this number: 87\n",
            "It's not a prime number.\n"
          ]
        }
      ]
    },
    {
      "cell_type": "code",
      "source": [
        "# IMPORTANT AS I USED TO FORGET\n",
        "air = ['r','s',\"e\"]\n",
        "word = input(\"Please enter a word..\").lower()\n",
        "for letter in word:\n",
        "    if letter in air:\n",
        "        print(\"Match\")"
      ],
      "metadata": {
        "colab": {
          "base_uri": "https://localhost:8080/"
        },
        "id": "iu6zJKcrBb-L",
        "outputId": "ca4ee9cb-23b5-4d8d-822a-368581c8e416"
      },
      "execution_count": 8,
      "outputs": [
        {
          "output_type": "stream",
          "name": "stdout",
          "text": [
            "Please enter a word..redx\n",
            "Match\n",
            "Match\n"
          ]
        }
      ]
    },
    {
      "cell_type": "code",
      "source": [
        "## Encryption Practice one thing I did here is DIFFERENT FROM INSTRUCTOR\n",
        "alphabet = ['a', 'b', 'c', 'd', 'e', 'f', 'g', 'h', 'i', 'j', 'k', 'l', 'm', 'n', 'o', 'p', 'q', 'r', 's', 't', 'u', 'v', 'w', 'x', 'y', 'z']\n",
        "\n",
        "direction = input(\"Type 'encode' to encrypt, type 'decode' to decrypt:\\n\")\n",
        "text = input(\"Type your message:\\n\").lower()\n",
        "shift = int(input(\"Type the shift number:\\n\"))\n",
        "\n",
        "#TODO-1: Create a function called 'encrypt' that takes the 'text' and 'shift' as inputs.\n",
        "def encrypt(text,shift):\n",
        "  cipher_text = \"\"\n",
        "  for letter in text:\n",
        "    if letter == \" \":\n",
        "      cipher_text += letter\n",
        "      continue\n",
        "    alpha_pos = alphabet.index(letter)\n",
        "    new_pos = alpha_pos+shift\n",
        "    if new_pos >= len(alphabet):\n",
        "      new_pos = new_pos - len(alphabet)\n",
        "    cipher_text += alphabet[new_pos]\n",
        "\n",
        "  print(cipher_text)\n",
        "  \n",
        "\n",
        "   #TODO-2: Inside the 'encrypt' function, shift each letter of the 'text' forwards in the alphabet by the shift amount and print the encrypted text.  \n",
        "   #e.g. \n",
        "   #plain_text = \"hello\"\n",
        "   #shift = 5\n",
        "   #cipher_text = \"mjqqt\"\n",
        "   #print output: \"The encoded text is mjqqt\"\n",
        "  \n",
        "    ##HINT: How do you get the index of an item in a list:\n",
        "    #https://stackoverflow.com/questions/176918/finding-the-index-of-an-item-in-a-list\n",
        "  \n",
        "    ##🐛Bug alert: What happens if you try to encode the word 'civilization'?🐛\n",
        "\n",
        "#TODO-3: Call the encrypt function and pass in the user inputs. You should be able to test the code and encrypt a message. \n",
        "encrypt(text,shift)"
      ],
      "metadata": {
        "colab": {
          "base_uri": "https://localhost:8080/"
        },
        "id": "1OxfSVC1Bi7i",
        "outputId": "a6212e8f-8f78-480d-e700-c3b5282715e0"
      },
      "execution_count": 10,
      "outputs": [
        {
          "output_type": "stream",
          "name": "stdout",
          "text": [
            "Type 'encode' to encrypt, type 'decode' to decrypt:\n",
            "encrypt\n",
            "Type your message:\n",
            "I am Kushagra\n",
            "Type the shift number:\n",
            "5\n",
            "n fr pzxmflwf\n"
          ]
        }
      ]
    },
    {
      "cell_type": "code",
      "source": [
        "## Decryption Practice one thing I did here is DIFFERENT FROM INSTRUCTOR\n",
        "alphabet = ['a', 'b', 'c', 'd', 'e', 'f', 'g', 'h', 'i', 'j', 'k', 'l', 'm', 'n', 'o', 'p', 'q', 'r', 's', 't', 'u', 'v', 'w', 'x', 'y', 'z']\n",
        "\n",
        "direction = input(\"Type 'encode' to encrypt, type 'decode' to decrypt:\\n\")\n",
        "text = input(\"Type your message:\\n\").lower()\n",
        "shift = int(input(\"Type the shift number:\\n\"))\n",
        "\n",
        "def encrypt(text,shift):\n",
        "  cipher_text = \"\"\n",
        "  for letter in text:\n",
        "    if letter == \" \":\n",
        "      cipher_text += letter\n",
        "      continue\n",
        "    alpha_pos = alphabet.index(letter)\n",
        "    new_pos = alpha_pos+shift\n",
        "    if new_pos >= len(alphabet):\n",
        "      new_pos = new_pos - len(alphabet)\n",
        "    cipher_text += alphabet[new_pos]\n",
        "\n",
        "  \n",
        "  #print(f\"The encoded text is {cipher_text}\")\n",
        "\n",
        "#TODO-1: Create a different function called 'decrypt' that takes the 'text' and 'shift' as inputs.\n",
        "def decrypt(text,shift):\n",
        "  decrypted_text = \"\"\n",
        "  for letter in text:\n",
        "    if letter == \" \":\n",
        "      decrypted_text += letter\n",
        "      continue\n",
        "    old_pos = alphabet.index(letter) - shift\n",
        "    decrypted_text += alphabet[old_pos]  \n",
        "  print(decrypted_text)\n",
        "\n",
        "\n",
        "  #TODO-2: Inside the 'decrypt' function, shift each letter of the 'text' *backwards* in the alphabet by the shift amount and print the decrypted text.  \n",
        "  #e.g. \n",
        "  #cipher_text = \"mjqqt\"\n",
        "  #shift = 5\n",
        "  #plain_text = \"hello\"\n",
        "  #print output: \"The decoded text is hello\"\n",
        "\n",
        "\n",
        "#TODO-3: Check if the user wanted to encrypt or decrypt the message by checking the 'direction' variable. Then call the correct function based on that 'drection' variable. You should be able to test the code to encrypt *AND* decrypt a message.\n",
        "encrypt(text,shift)\n",
        "decrypt(text,shift)"
      ],
      "metadata": {
        "colab": {
          "base_uri": "https://localhost:8080/"
        },
        "id": "Aj71M-OkB55D",
        "outputId": "e93d786c-ebe1-4155-d85a-c4d9f4d5b927"
      },
      "execution_count": 11,
      "outputs": [
        {
          "output_type": "stream",
          "name": "stdout",
          "text": [
            "Type 'encode' to encrypt, type 'decode' to decrypt:\n",
            "decode\n",
            "Type your message:\n",
            "ezqn mjqqt btwqi\n",
            "Type the shift number:\n",
            "5\n",
            "zuli hello world\n"
          ]
        }
      ]
    },
    {
      "cell_type": "code",
      "source": [
        "# MAIN PROJECT -- Caesar Cipher# MAIN PROJECT\n",
        "alphabet = ['a', 'b', 'c', 'd', 'e', 'f', 'g', 'h', 'i', 'j', 'k', 'l', 'm', 'n', 'o', 'p', 'q', 'r', 's', 't', 'u', 'v', 'w', 'x', 'y', 'z']\n",
        "\n",
        "direction = input(\"Type 'encode' to encrypt, type 'decode' to decrypt:\\n\")\n",
        "text = input(\"Type your message:\\n\").lower()\n",
        "shift = int(input(\"Type the shift number:\\n\"))\n",
        "\n",
        "\n",
        "def caesar(text,shift,direction):\n",
        "  temp_text = \"\"\n",
        "  if direction == \"encode\":\n",
        "    for letter in text:\n",
        "      if letter == \" \":\n",
        "        temp_text += letter\n",
        "        continue\n",
        "      alpha_pos = alphabet.index(letter)\n",
        "      new_pos = alpha_pos+shift\n",
        "      if new_pos >= len(alphabet):\n",
        "        new_pos = new_pos - len(alphabet)\n",
        "      temp_text += alphabet[new_pos]\n",
        "    print(f\"The encrypted message is '{temp_text}' with secrect shift key :  {shift}\")\n",
        "    temp_text = \"\"\n",
        "  \n",
        "\n",
        "\n",
        "\n",
        "\n",
        "  if direction == \"decode\":\n",
        "    for letter in text:\n",
        "      if letter == \" \":\n",
        "        temp_text += letter\n",
        "        continue\n",
        "      old_pos = alphabet.index(letter)-  shift\n",
        "      temp_text += alphabet[old_pos]  \n",
        "    print(f\"The encrypted message is '{temp_text}' \")  \n",
        "    temp_text = \"\"\n",
        "\n",
        "    \n",
        "caesar(text,shift,direction)"
      ],
      "metadata": {
        "colab": {
          "base_uri": "https://localhost:8080/"
        },
        "id": "ZukYD347CBGa",
        "outputId": "28da1f22-8cdf-4160-a1e5-d3d5d1b4388c"
      },
      "execution_count": 12,
      "outputs": [
        {
          "output_type": "stream",
          "name": "stdout",
          "text": [
            "Type 'encode' to encrypt, type 'decode' to decrypt:\n",
            "encode\n",
            "Type your message:\n",
            "Hi I love you\n",
            "Type the shift number:\n",
            "14\n",
            "The encrypted message is 'vw w zcjs mci' with secrect shift key :  14\n"
          ]
        }
      ]
    },
    {
      "cell_type": "code",
      "source": [
        "# MAIN PROJECT -- Caesar Cipher# MAIN PROJECT\n",
        "alphabet = ['a', 'b', 'c', 'd', 'e', 'f', 'g', 'h', 'i', 'j', 'k', 'l', 'm', 'n', 'o', 'p', 'q', 'r', 's', 't', 'u', 'v', 'w', 'x', 'y', 'z']\n",
        "\n",
        "direction = input(\"Type 'encode' to encrypt, type 'decode' to decrypt:\\n\")\n",
        "text = input(\"Type your message:\\n\").lower()\n",
        "shift = int(input(\"Type the shift number:\\n\"))\n",
        "\n",
        "\n",
        "def caesar(text,shift,direction):\n",
        "  temp_text = \"\"\n",
        "  if direction == \"encode\":\n",
        "    for letter in text:\n",
        "      if letter == \" \":\n",
        "        temp_text += letter\n",
        "        continue\n",
        "      alpha_pos = alphabet.index(letter)\n",
        "      new_pos = alpha_pos+shift\n",
        "      if new_pos >= len(alphabet):\n",
        "        new_pos = new_pos - len(alphabet)\n",
        "      temp_text += alphabet[new_pos]\n",
        "    print(f\"The encrypted message is '{temp_text}' with secrect shift key :  {shift}\")\n",
        "    temp_text = \"\"\n",
        "  \n",
        "\n",
        "\n",
        "\n",
        "\n",
        "  if direction == \"decode\":\n",
        "    for letter in text:\n",
        "      if letter == \" \":\n",
        "        temp_text += letter\n",
        "        continue\n",
        "      old_pos = alphabet.index(letter)-  shift\n",
        "      temp_text += alphabet[old_pos]  \n",
        "    print(f\"The encrypted message is '{temp_text}' \")  \n",
        "    temp_text = \"\"\n",
        "\n",
        "    \n",
        "caesar(text,shift,direction)"
      ],
      "metadata": {
        "colab": {
          "base_uri": "https://localhost:8080/"
        },
        "id": "Rk5pLj9eCOJ0",
        "outputId": "51c67f9f-2bb9-49e8-ec03-64bd19226288"
      },
      "execution_count": 15,
      "outputs": [
        {
          "output_type": "stream",
          "name": "stdout",
          "text": [
            "Type 'encode' to encrypt, type 'decode' to decrypt:\n",
            "decode\n",
            "Type your message:\n",
            "vw w zcjs mci\n",
            "Type the shift number:\n",
            "14\n",
            "The encrypted message is 'hi i love you' \n"
          ]
        }
      ]
    }
  ]
}