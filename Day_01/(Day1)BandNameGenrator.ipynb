{
  "nbformat": 4,
  "nbformat_minor": 0,
  "metadata": {
    "colab": {
      "name": "BandNameGenrator.ipynb",
      "provenance": [],
      "collapsed_sections": [],
      "authorship_tag": "ABX9TyNZ5yPe8+IuQ8AO/7hZBKG1",
      "include_colab_link": true
    },
    "kernelspec": {
      "name": "python3",
      "display_name": "Python 3"
    },
    "language_info": {
      "name": "python"
    }
  },
  "cells": [
    {
      "cell_type": "markdown",
      "metadata": {
        "id": "view-in-github",
        "colab_type": "text"
      },
      "source": [
        "<a href=\"https://colab.research.google.com/github/gitkushagra/100daysofpython/blob/main/(Day1)BandNameGenrator.ipynb\" target=\"_parent\"><img src=\"https://colab.research.google.com/assets/colab-badge.svg\" alt=\"Open In Colab\"/></a>"
      ]
    },
    {
      "cell_type": "code",
      "execution_count": 1,
      "metadata": {
        "colab": {
          "base_uri": "https://localhost:8080/"
        },
        "id": "QjAmsTmjvjrj",
        "outputId": "8a54a5fe-6f2e-4c10-8a62-c4e25d04e546"
      },
      "outputs": [
        {
          "output_type": "stream",
          "name": "stdout",
          "text": [
            "Welcome to Band Name Generator Tool!\n",
            "Hi! In which city did you grew up?\n",
            "Banda\n",
            "What's the name of your pet?\n",
            "Hero\n",
            "Hey! I have a band name as: Banda Hero\n"
          ]
        }
      ],
      "source": [
        "#1. Create a greeting for your program.\n",
        "print(\"Welcome to Band Name Generator Tool!\")\n",
        "#2. Ask the user for the city that they grew up in.\n",
        "city = input(\"Hi! In which city did you grew up?\\n\")\n",
        "#3. Ask the user for the name of a pet.\n",
        "pet = input(\"What's the name of your pet?\\n\")\n",
        "#4. Combine the name of their city and pet and show them their band name.\n",
        "print(\"Hey! I have a band name as: \"+city+\" \"+pet)\n",
        "#5. Make sure the input cursor shows on a new line, see the example at:"
      ]
    },
    {
      "cell_type": "code",
      "source": [
        "print(input(\"What is your name?\\n\"))"
      ],
      "metadata": {
        "colab": {
          "base_uri": "https://localhost:8080/"
        },
        "id": "RmQTZ75kwIz4",
        "outputId": "00dc3165-3b01-4871-ac9c-5a2252c89956"
      },
      "execution_count": 2,
      "outputs": [
        {
          "output_type": "stream",
          "name": "stdout",
          "text": [
            "What is your name?\n",
            "Kushagra\n",
            "Kushagra\n"
          ]
        }
      ]
    },
    {
      "cell_type": "code",
      "source": [
        "a = input(\"a: \")\n",
        "b = input(\"b: \")\n",
        "temp = a\n",
        "a = b\n",
        "b = temp\n",
        "print(\"a: \"+a)\n",
        "print(\"b: \"+b)"
      ],
      "metadata": {
        "colab": {
          "base_uri": "https://localhost:8080/"
        },
        "id": "KqzwGA7lwZdM",
        "outputId": "36101566-947e-4da9-870d-288f67771f7f"
      },
      "execution_count": 3,
      "outputs": [
        {
          "output_type": "stream",
          "name": "stdout",
          "text": [
            "a: 6\n",
            "b: 5\n",
            "a: 5\n",
            "b: 6\n"
          ]
        }
      ]
    },
    {
      "cell_type": "code",
      "source": [
        ""
      ],
      "metadata": {
        "id": "65jZdnARzqQy"
      },
      "execution_count": null,
      "outputs": []
    }
  ]
}