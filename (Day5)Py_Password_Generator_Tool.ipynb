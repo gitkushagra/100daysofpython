{
  "nbformat": 4,
  "nbformat_minor": 0,
  "metadata": {
    "colab": {
      "name": "Py Password Generator Tool.ipynb",
      "provenance": [],
      "collapsed_sections": [],
      "authorship_tag": "ABX9TyPp05ITc68PJikwJIE81rzG",
      "include_colab_link": true
    },
    "kernelspec": {
      "name": "python3",
      "display_name": "Python 3"
    },
    "language_info": {
      "name": "python"
    }
  },
  "cells": [
    {
      "cell_type": "markdown",
      "metadata": {
        "id": "view-in-github",
        "colab_type": "text"
      },
      "source": [
        "<a href=\"https://colab.research.google.com/github/gitkushagra/100daysofpython/blob/main/(Day5)Py_Password_Generator_Tool.ipynb\" target=\"_parent\"><img src=\"https://colab.research.google.com/assets/colab-badge.svg\" alt=\"Open In Colab\"/></a>"
      ]
    },
    {
      "cell_type": "code",
      "execution_count": 1,
      "metadata": {
        "colab": {
          "base_uri": "https://localhost:8080/"
        },
        "id": "pYEQQLSK7rxq",
        "outputId": "6ca62952-af29-4be3-c813-8c821f762e51"
      },
      "outputs": [
        {
          "output_type": "stream",
          "name": "stdout",
          "text": [
            "Input a list of student heights 25 65 87 45 71 289 147 0 21\n",
            "83\n"
          ]
        }
      ],
      "source": [
        "# 🚨 Don't change the code below 👇\n",
        "student_heights = input(\"Input a list of student heights \").split()\n",
        "for n in range(0, len(student_heights)):\n",
        "  student_heights[n] = int(student_heights[n])\n",
        "# 🚨 Don't change the code above 👆\n",
        "\n",
        "\n",
        "#Write your code below this row 👇\n",
        "totalHeight = 0\n",
        "for height in student_heights:\n",
        "  totalHeight += height\n",
        "\n",
        "# Without using len()\n",
        "count = 0 \n",
        "for i in student_heights:\n",
        "  count += 1\n",
        "\n",
        "avg = totalHeight/count\n",
        "print(round(avg))"
      ]
    },
    {
      "cell_type": "code",
      "source": [
        "# get highest without using min() and max() functions\n",
        "# 🚨 Don't change the code below 👇\n",
        "student_scores = input(\"Input a list of student scores \").split()\n",
        "for n in range(0, len(student_scores)):\n",
        "  student_scores[n] = int(student_scores[n])\n",
        "print(student_scores)\n",
        "# 🚨 Don't change the code above 👆\n",
        "\n",
        "#Write your code below this row 👇\n",
        "highest = 0\n",
        "for i in student_scores:\n",
        "  if i > highest:\n",
        "    highest = i\n",
        "print(f\"The highest score in the class is: {highest}\")"
      ],
      "metadata": {
        "colab": {
          "base_uri": "https://localhost:8080/"
        },
        "id": "o5J3JBUl8A0B",
        "outputId": "6f99d26a-ba63-4d88-9719-f87db0db353a"
      },
      "execution_count": 2,
      "outputs": [
        {
          "output_type": "stream",
          "name": "stdout",
          "text": [
            "Input a list of student scores 2 47 99 0 1 0 4 8 3 5\n",
            "[2, 47, 99, 0, 1, 0, 4, 8, 3, 5]\n",
            "The highest score in the class is: 99\n"
          ]
        }
      ]
    },
    {
      "cell_type": "code",
      "source": [
        "# Sum of even numbers from 0 to 100\n",
        "#Write your code below this row 👇\n",
        "sum = 0\n",
        "for number in range(0,101):\n",
        "  if number%2 == 0:\n",
        "    sum += number\n",
        "print(sum)"
      ],
      "metadata": {
        "colab": {
          "base_uri": "https://localhost:8080/"
        },
        "id": "Nfby-He_8K5J",
        "outputId": "9e79df29-a089-4a27-aa7b-034315e311dc"
      },
      "execution_count": 3,
      "outputs": [
        {
          "output_type": "stream",
          "name": "stdout",
          "text": [
            "2550\n"
          ]
        }
      ]
    },
    {
      "cell_type": "code",
      "source": [
        "# Sum of even numbers from 0 to 100\n",
        "# Using range smartly\n",
        "sum = 0\n",
        "for number in range(0,101,2):\n",
        "    sum += number\n",
        "print(sum)"
      ],
      "metadata": {
        "colab": {
          "base_uri": "https://localhost:8080/"
        },
        "id": "-M9r-5Zm8NK4",
        "outputId": "1fc01d3d-167c-4582-902a-8c6d032c4932"
      },
      "execution_count": 4,
      "outputs": [
        {
          "output_type": "stream",
          "name": "stdout",
          "text": [
            "2550\n"
          ]
        }
      ]
    },
    {
      "cell_type": "code",
      "source": [
        "# FizzBuzz Program\n",
        "#Write your code below this row 👇\n",
        "for num in range(1,101):\n",
        "  if num%3==0 and num%5==0:\n",
        "    print(\"FizzBuzz\")\n",
        "  elif num%3 == 0:\n",
        "    print(\"Fizz\")\n",
        "  elif num%5 == 0:\n",
        "    print(\"Buzz\")\n",
        "  else:\n",
        "    print(num) "
      ],
      "metadata": {
        "colab": {
          "base_uri": "https://localhost:8080/"
        },
        "id": "dIRXmIfT8Rr5",
        "outputId": "4ecdd372-d19c-4776-fd51-e50f418343da"
      },
      "execution_count": 5,
      "outputs": [
        {
          "output_type": "stream",
          "name": "stdout",
          "text": [
            "1\n",
            "2\n",
            "Fizz\n",
            "4\n",
            "Buzz\n",
            "Fizz\n",
            "7\n",
            "8\n",
            "Fizz\n",
            "Buzz\n",
            "11\n",
            "Fizz\n",
            "13\n",
            "14\n",
            "FizzBuzz\n",
            "16\n",
            "17\n",
            "Fizz\n",
            "19\n",
            "Buzz\n",
            "Fizz\n",
            "22\n",
            "23\n",
            "Fizz\n",
            "Buzz\n",
            "26\n",
            "Fizz\n",
            "28\n",
            "29\n",
            "FizzBuzz\n",
            "31\n",
            "32\n",
            "Fizz\n",
            "34\n",
            "Buzz\n",
            "Fizz\n",
            "37\n",
            "38\n",
            "Fizz\n",
            "Buzz\n",
            "41\n",
            "Fizz\n",
            "43\n",
            "44\n",
            "FizzBuzz\n",
            "46\n",
            "47\n",
            "Fizz\n",
            "49\n",
            "Buzz\n",
            "Fizz\n",
            "52\n",
            "53\n",
            "Fizz\n",
            "Buzz\n",
            "56\n",
            "Fizz\n",
            "58\n",
            "59\n",
            "FizzBuzz\n",
            "61\n",
            "62\n",
            "Fizz\n",
            "64\n",
            "Buzz\n",
            "Fizz\n",
            "67\n",
            "68\n",
            "Fizz\n",
            "Buzz\n",
            "71\n",
            "Fizz\n",
            "73\n",
            "74\n",
            "FizzBuzz\n",
            "76\n",
            "77\n",
            "Fizz\n",
            "79\n",
            "Buzz\n",
            "Fizz\n",
            "82\n",
            "83\n",
            "Fizz\n",
            "Buzz\n",
            "86\n",
            "Fizz\n",
            "88\n",
            "89\n",
            "FizzBuzz\n",
            "91\n",
            "92\n",
            "Fizz\n",
            "94\n",
            "Buzz\n",
            "Fizz\n",
            "97\n",
            "98\n",
            "Fizz\n",
            "Buzz\n"
          ]
        }
      ]
    },
    {
      "cell_type": "code",
      "source": [
        "# MAIN PROJECT\n",
        "#Password Generator Project\n",
        "import random\n",
        "letters = ['a', 'b', 'c', 'd', 'e', 'f', 'g', 'h', 'i', 'j', 'k', 'l', 'm', 'n', 'o', 'p', 'q', 'r', 's', 't', 'u', 'v', 'w', 'x', 'y', 'z', 'A', 'B', 'C', 'D', 'E', 'F', 'G', 'H', 'I', 'J', 'K', 'L', 'M', 'N', 'O', 'P', 'Q', 'R', 'S', 'T', 'U', 'V', 'W', 'X', 'Y', 'Z']\n",
        "numbers = ['0', '1', '2', '3', '4', '5', '6', '7', '8', '9']\n",
        "symbols = ['!', '#', '$', '%', '&', '(', ')', '*', '+']\n",
        "\n",
        "print(\"Welcome to the PyPassword Generator!\")\n",
        "nr_letters= int(input(\"How many letters would you like in your password?\\n\")) \n",
        "nr_symbols = int(input(f\"How many symbols would you like?\\n\"))\n",
        "nr_numbers = int(input(f\"How many numbers would you like?\\n\"))\n",
        "\n",
        "#Eazy Level - Order not randomised:\n",
        "#e.g. 4 letter, 2 symbol, 2 number = JduE&!91\n",
        "password = []\n",
        "randomalpha = ''\n",
        "for i in range(nr_letters):\n",
        "  randomalpha = random.choice(letters)\n",
        "  password.append(randomalpha)\n",
        "\n",
        "for i in range(nr_symbols):\n",
        "  randomalpha = random.choice(symbols)\n",
        "  password.append(randomalpha)\n",
        "\n",
        "for i in range(nr_numbers):\n",
        "  randomalpha = str(random.choice(numbers))\n",
        "  password.append(randomalpha)\n",
        "\n",
        "print(*password, sep='')\n",
        "  \n",
        "\n",
        "#Hard Level - Order of characters randomised:\n",
        "#e.g. 4 letter, 2 symbol, 2 number = g^2jk8&P\n",
        "\n",
        "print(*(random.sample(password,len(password))),sep = '')\n",
        "\n",
        "# https://www.codegrepper.com/code-examples/python/print+random+string+from+list+python"
      ],
      "metadata": {
        "colab": {
          "base_uri": "https://localhost:8080/"
        },
        "id": "Ez8ql7u68dWh",
        "outputId": "589e947b-29b2-492b-b05a-361c963d6d77"
      },
      "execution_count": 6,
      "outputs": [
        {
          "output_type": "stream",
          "name": "stdout",
          "text": [
            "Welcome to the PyPassword Generator!\n",
            "How many letters would you like in your password?\n",
            "25\n",
            "How many symbols would you like?\n",
            "14\n",
            "How many numbers would you like?\n",
            "30\n",
            "UmamBcstkwqhlmsVRBBjGCmTJ)((+*)%%*!+##(033616762524759275724352232063\n",
            "!a+U)27446#7l3%s6wC172Bk0BBq)2Jm((T62%tm259m23#0*2m567R+35c35s(hV3j*G\n"
          ]
        }
      ]
    }
  ]
}