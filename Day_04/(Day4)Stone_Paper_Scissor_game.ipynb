{
  "nbformat": 4,
  "nbformat_minor": 0,
  "metadata": {
    "colab": {
      "name": "Stone Paper Scissor game.ipynb",
      "provenance": [],
      "collapsed_sections": [],
      "mount_file_id": "1SAF3LEyf16sMMFJvVo2rYDRGIdHj7tWQ",
      "authorship_tag": "ABX9TyOWw9pAw2Rq/iy2hrtYz+DL",
      "include_colab_link": true
    },
    "kernelspec": {
      "name": "python3",
      "display_name": "Python 3"
    },
    "language_info": {
      "name": "python"
    }
  },
  "cells": [
    {
      "cell_type": "markdown",
      "metadata": {
        "id": "view-in-github",
        "colab_type": "text"
      },
      "source": [
        "<a href=\"https://colab.research.google.com/github/gitkushagra/100daysofpython/blob/main/(Day4)Stone_Paper_Scissor_game.ipynb\" target=\"_parent\"><img src=\"https://colab.research.google.com/assets/colab-badge.svg\" alt=\"Open In Colab\"/></a>"
      ]
    },
    {
      "cell_type": "code",
      "execution_count": 1,
      "metadata": {
        "colab": {
          "base_uri": "https://localhost:8080/"
        },
        "id": "tL9B9inc2ZjF",
        "outputId": "e2992373-83f7-45e4-8a4d-263706598ee3"
      },
      "outputs": [
        {
          "output_type": "stream",
          "name": "stdout",
          "text": [
            "9\n"
          ]
        }
      ],
      "source": [
        "import random\n",
        "random_int = random.randint(0,10)\n",
        "print(random_int)"
      ]
    },
    {
      "cell_type": "code",
      "source": [
        "import custommodule\n",
        "custommodule.pi\n"
      ],
      "metadata": {
        "colab": {
          "base_uri": "https://localhost:8080/"
        },
        "id": "0LHiKA_u3QrS",
        "outputId": "0760ea12-daa2-40be-887d-762eeeef2785"
      },
      "execution_count": 7,
      "outputs": [
        {
          "output_type": "execute_result",
          "data": {
            "text/plain": [
              "3.14"
            ]
          },
          "metadata": {},
          "execution_count": 7
        }
      ]
    },
    {
      "cell_type": "code",
      "source": [
        "# Head Tail Generator\n",
        "#Write your code below this line 👇\n",
        "#Hint: Remember to import the random module first. 🎲\n",
        "import random\n",
        "\n",
        "a = random.randint(0,1)\n",
        "if a==0:\n",
        "  print(\"Head\")\n",
        "if a==1:\n",
        "  print(\"Tail\")"
      ],
      "metadata": {
        "colab": {
          "base_uri": "https://localhost:8080/"
        },
        "id": "0Jh-OSD_6jL1",
        "outputId": "3c6a1c9d-c8e4-4d41-b439-78390dcf43bc"
      },
      "execution_count": 8,
      "outputs": [
        {
          "output_type": "stream",
          "name": "stdout",
          "text": [
            "Tail\n"
          ]
        }
      ]
    },
    {
      "cell_type": "code",
      "source": [
        "# Who's Paying\n",
        "import random\n",
        "# Split string method\n",
        "names_string = input(\"Give me everybody's names, separated by a comma. \")\n",
        "names = names_string.split(\", \")\n",
        "# 🚨 Don't change the code above 👆\n",
        "\n",
        "#Write your code below this line 👇\n",
        "\n",
        "randomindex = random.randint(0,len(names)-1)\n",
        "print(f\"{names[randomindex]} is going to buy the meal today!\")"
      ],
      "metadata": {
        "colab": {
          "base_uri": "https://localhost:8080/"
        },
        "id": "OE4Q64Ya6lAg",
        "outputId": "a578e944-397d-453e-df73-c2da9cb18019"
      },
      "execution_count": 9,
      "outputs": [
        {
          "output_type": "stream",
          "name": "stdout",
          "text": [
            "Give me everybody's names, separated by a comma. Kushagra, Utkarsh, Harsh, Medha, Doll\n",
            "Medha is going to buy the meal today!\n"
          ]
        }
      ]
    },
    {
      "cell_type": "code",
      "source": [
        "# Treasure Map\n",
        "# 🚨 Don't change the code below 👇\n",
        "row1 = [\"⬜️\",\"⬜️\",\"⬜️\"]\n",
        "row2 = [\"⬜️\",\"⬜️\",\"⬜️\"]\n",
        "row3 = [\"⬜️\",\"⬜️\",\"⬜️\"]\n",
        "map = [row1, row2, row3]\n",
        "print(f\"{row1}\\n{row2}\\n{row3}\")\n",
        "position = input(\"Where do you want to put the treasure? \")\n",
        "# 🚨 Don't change the code above 👆\n",
        "\n",
        "#Write your code below this row 👇\n",
        "column = int(position[0])\n",
        "row = int(position[1])\n",
        "map[row-1][column-1] = 'X'\n",
        "\n",
        "\n",
        "\n",
        "\n",
        "\n",
        "\n",
        "#Write your code above this row 👆\n",
        "\n",
        "# 🚨 Don't change the code below 👇\n",
        "print(f\"{row1}\\n{row2}\\n{row3}\")"
      ],
      "metadata": {
        "colab": {
          "base_uri": "https://localhost:8080/"
        },
        "id": "ZzPvNcFE63ox",
        "outputId": "a3423c43-04f2-4752-baf0-ba7b0cd0a0a8"
      },
      "execution_count": 11,
      "outputs": [
        {
          "output_type": "stream",
          "name": "stdout",
          "text": [
            "['⬜️', '⬜️', '⬜️']\n",
            "['⬜️', '⬜️', '⬜️']\n",
            "['⬜️', '⬜️', '⬜️']\n",
            "Where do you want to put the treasure? 32\n",
            "['⬜️', '⬜️', '⬜️']\n",
            "['⬜️', '⬜️', 'X']\n",
            "['⬜️', '⬜️', '⬜️']\n"
          ]
        }
      ]
    },
    {
      "cell_type": "code",
      "source": [
        "import random\n",
        "rock = '''\n",
        "    _______\n",
        "---'   ____)\n",
        "      (_____)\n",
        "      (_____)\n",
        "      (____)\n",
        "---.__(___)\n",
        "'''\n",
        "\n",
        "paper = '''\n",
        "    _______\n",
        "---'   ____)____\n",
        "          ______)\n",
        "          _______)\n",
        "         _______)\n",
        "---.__________)\n",
        "'''\n",
        "\n",
        "scissors = '''\n",
        "    _______\n",
        "---'   ____)____\n",
        "          ______)\n",
        "       __________)\n",
        "      (____)\n",
        "---.__(___)\n",
        "'''\n",
        "\n",
        "#Write your code below this line 👇\n",
        "\n",
        "computerchoice = random.randint(0,2)\n",
        "userchoice = int(input(\"What do you choose? Type 0 for Rock, 1 for Paper or 2 for Scissors.\"))\n",
        "if (userchoice < 0 or userchoice > 2):\n",
        "  print(\"Invalid Choice!\")\n",
        "else :\n",
        "  if computerchoice == 0:\n",
        "    print(\"Computer's choice: \")\n",
        "    print(rock)\n",
        "    print(\"Your's Choice: \")\n",
        "    if userchoice == 0:\n",
        "      print(rock)\n",
        "      print(\"It's a DRAW!\")\n",
        "    if userchoice == 1:\n",
        "      print(paper)\n",
        "      print(\"You WIN!\")\n",
        "    if userchoice == 2:\n",
        "      print(scissors)\n",
        "      print(\"I WON! Wooo!\")\n",
        "  elif computerchoice == 1:\n",
        "    print(\"Computer's choice: \")\n",
        "    print(paper)\n",
        "    print(\"Your's Choice: \")\n",
        "    if userchoice == 0:\n",
        "      print(rock)\n",
        "      print(\"I WON! Wooo!\")\n",
        "    if userchoice == 1:\n",
        "      print(paper)\n",
        "      print(\"It's a DRAW!\")\n",
        "    if userchoice == 2:\n",
        "      print(scissors)\n",
        "      print(\"You WIN!\")\n",
        "  elif computerchoice == 2:\n",
        "    print(\"Computer's choice: \")\n",
        "    print(scissors)\n",
        "    print(\"Your's Choice: \")\n",
        "    if userchoice == 0:\n",
        "      print(rock)\n",
        "      print(\"You WIN!\")\n",
        "    if userchoice == 1:\n",
        "      print(paper)\n",
        "      print(\"I WON! Wooo!\")\n",
        "    if userchoice == 2:\n",
        "      print(scissors)\n",
        "      print(\"It's a DRAW!\")"
      ],
      "metadata": {
        "colab": {
          "base_uri": "https://localhost:8080/"
        },
        "id": "EI6fslOS7K8v",
        "outputId": "1954c54f-7bba-4444-a585-05a53210b1f3"
      },
      "execution_count": 12,
      "outputs": [
        {
          "output_type": "stream",
          "name": "stdout",
          "text": [
            "What do you choose? Type 0 for Rock, 1 for Paper or 2 for Scissors.1\n",
            "Computer's choice: \n",
            "\n",
            "    _______\n",
            "---'   ____)____\n",
            "          ______)\n",
            "       __________)\n",
            "      (____)\n",
            "---.__(___)\n",
            "\n",
            "Your's Choice: \n",
            "\n",
            "    _______\n",
            "---'   ____)____\n",
            "          ______)\n",
            "          _______)\n",
            "         _______)\n",
            "---.__________)\n",
            "\n",
            "I WON! Wooo!\n"
          ]
        }
      ]
    }
  ]
}