{
  "nbformat": 4,
  "nbformat_minor": 0,
  "metadata": {
    "colab": {
      "name": "Number guessing game.ipynb",
      "provenance": [],
      "collapsed_sections": [],
      "authorship_tag": "ABX9TyOROoA9ZhdxklM21+NkdYi1",
      "include_colab_link": true
    },
    "kernelspec": {
      "name": "python3",
      "display_name": "Python 3"
    },
    "language_info": {
      "name": "python"
    }
  },
  "cells": [
    {
      "cell_type": "markdown",
      "metadata": {
        "id": "view-in-github",
        "colab_type": "text"
      },
      "source": [
        "<a href=\"https://colab.research.google.com/github/gitkushagra/100daysofpython/blob/main/(Day12)Number_guessing_game.ipynb\" target=\"_parent\"><img src=\"https://colab.research.google.com/assets/colab-badge.svg\" alt=\"Open In Colab\"/></a>"
      ]
    },
    {
      "cell_type": "code",
      "execution_count": 2,
      "metadata": {
        "colab": {
          "base_uri": "https://localhost:8080/"
        },
        "id": "cqwKeMQbFm_f",
        "outputId": "07e55c94-70ea-4274-f4cc-1159e2f21247"
      },
      "outputs": [
        {
          "output_type": "stream",
          "name": "stdout",
          "text": [
            "\n",
            " __  __ __ __ ___  ___ ____   ____ ____       ___  __ __  ____  __   __  __ __  __   ___       ___   ___  ___  ___  ____\n",
            " ||\\ || || || ||\\//|| || )) ||    || \\     // \\ || || ||    (( \\ (( \\ || ||\\ ||  // \\     // \\ // \\ ||\\//|| ||   \n",
            " ||\\|| || || || \\/ || ||=)  ||==  ||_//    (( ___ || || ||==   \\   \\  || ||\\|| (( ___    (( ___ ||=|| || \\/ || ||== \n",
            " || \\|| \\_// ||    || ||_)) ||___ || \\     \\_|| \\_// ||___ \\_)) \\_)) || || \\||  \\_||     \\_|| || || ||    || ||___\n",
            "    \n",
            "\n",
            "Choose difficulty level: easy or hard.\n",
            "easy\n",
            "You have 10 attempts left.\n",
            "\n",
            "Enter your guess:\n",
            "29\n",
            "Your guess is too high!\n",
            "You have 9 attempts left.\n",
            "\n",
            "Enter your guess:\n",
            "5\n",
            "Your guess is too low!\n",
            "You have 8 attempts left.\n",
            "\n",
            "Enter your guess:\n",
            "15\n",
            "Your guess is too high!\n",
            "You have 7 attempts left.\n",
            "\n",
            "Enter your guess:\n",
            "10\n",
            "Your guess is too low!\n",
            "You have 6 attempts left.\n",
            "\n",
            "Enter your guess:\n",
            "13\n",
            "Your guess is too high!\n",
            "You have 5 attempts left.\n",
            "\n",
            "Enter your guess:\n",
            "12\n",
            "Yes! Right answer is 12. You WIN!\n"
          ]
        }
      ],
      "source": [
        "## MAIN PROJECT NUMBER GUESSING GAME\n",
        "import random\n",
        "import art\n",
        "\n",
        "print(art.logo)\n",
        "\n",
        "computer_choice = random.randint(1,100)\n",
        "choice  = input(\"Choose difficulty level: easy or hard.\\n\")\n",
        "if choice == 'easy':\n",
        "    attempts = 10\n",
        "elif choice == 'hard':\n",
        "    attempts = 5\n",
        "for i in reversed(range(attempts+1)):\n",
        "    print(f\"You have {i} attempts left.\\n\")\n",
        "    if i>0:\n",
        "        guess = int(input(\"Enter your guess:\\n\"))\n",
        "        if guess > computer_choice:\n",
        "            print(\"Your guess is too high!\")\n",
        "        elif guess < computer_choice:\n",
        "            print(\"Your guess is too low!\")\n",
        "    if i == 0:\n",
        "        print(f\"Sorry! You Loose. {computer_choice} was right.\")\n",
        "    if guess == computer_choice:\n",
        "        print(f\"Yes! Right answer is {computer_choice}. You WIN!\")\n",
        "        break"
      ]
    }
  ]
}