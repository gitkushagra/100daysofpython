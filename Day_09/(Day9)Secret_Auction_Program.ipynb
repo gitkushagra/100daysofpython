{
  "nbformat": 4,
  "nbformat_minor": 0,
  "metadata": {
    "colab": {
      "name": "Secret Auction Program.ipynb",
      "provenance": [],
      "collapsed_sections": [],
      "mount_file_id": "1vUnbOvaFHLnZRRiyrtJ3EKaOymfdldYL",
      "authorship_tag": "ABX9TyP6g+FdsKPGKnK+NMADZOQ4",
      "include_colab_link": true
    },
    "kernelspec": {
      "name": "python3",
      "display_name": "Python 3"
    },
    "language_info": {
      "name": "python"
    }
  },
  "cells": [
    {
      "cell_type": "markdown",
      "metadata": {
        "id": "view-in-github",
        "colab_type": "text"
      },
      "source": [
        "<a href=\"https://colab.research.google.com/github/gitkushagra/100daysofpython/blob/main/(Day9)Secret_Auction_Program.ipynb\" target=\"_parent\"><img src=\"https://colab.research.google.com/assets/colab-badge.svg\" alt=\"Open In Colab\"/></a>"
      ]
    },
    {
      "cell_type": "code",
      "execution_count": 1,
      "metadata": {
        "colab": {
          "base_uri": "https://localhost:8080/"
        },
        "id": "UVd54JSqC1K1",
        "outputId": "596077c1-20b7-489e-e428-ac97f94a281e"
      },
      "outputs": [
        {
          "output_type": "stream",
          "name": "stdout",
          "text": [
            "{'Harry': 'Exceeds Expectations', 'Ron': 'Acceptable', 'Hermione': 'Outstanding', 'Draco': 'Acceptable', 'Neville': 'Fail'}\n"
          ]
        }
      ],
      "source": [
        "student_scores = {\n",
        "  \"Harry\": 81,\n",
        "  \"Ron\": 78,\n",
        "  \"Hermione\": 99, \n",
        "  \"Draco\": 74,\n",
        "  \"Neville\": 62,\n",
        "}\n",
        "# 🚨 Don't change the code above 👆\n",
        "\n",
        "#TODO-1: Create an empty dictionary called student_grades.\n",
        "student_grades = {}\n",
        "\n",
        "\n",
        "\n",
        "#TODO-2: Write your code below to add the grades to student_grades.👇\n",
        "\n",
        "for key in student_scores:\n",
        "  if(student_scores[key]>=90 and student_scores[key] < 100):\n",
        "    student_grades[key] = \"Outstanding\"\n",
        "  elif(student_scores[key] >=81 and student_scores[key] <90):\n",
        "    student_grades[key] = \"Exceeds Expectations\"\n",
        "  elif(student_scores[key] >= 71 and student_scores[key] < 80):\n",
        "    student_grades[key] = \"Acceptable\"\n",
        "  elif(student_scores[key] < 71):\n",
        "    student_grades[key] = \"Fail\"\n",
        "\n",
        "\n",
        "# 🚨 Don't change the code below 👇\n",
        "print(student_grades)"
      ]
    },
    {
      "cell_type": "code",
      "source": [
        "## IMPORTANT\n",
        "travel_log = [\n",
        "{\n",
        "  \"country\": \"France\",\n",
        "  \"visits\": 12,\n",
        "  \"cities\": [\"Paris\", \"Lille\", \"Dijon\"]\n",
        "},\n",
        "{\n",
        "  \"country\": \"Germany\",\n",
        "  \"visits\": 5,\n",
        "  \"cities\": [\"Berlin\", \"Hamburg\", \"Stuttgart\"]\n",
        "},\n",
        "]\n",
        "#🚨 Do NOT change the code above\n",
        "\n",
        "#TODO: Write the function that will allow new countries\n",
        "#to be added to the travel_log. 👇\n",
        "\n",
        "def add_new_country(name,timesVisited,places):\n",
        "  temp_dict = {}\n",
        "  temp_dict[\"country\"] = name\n",
        "  temp_dict[\"visits\"] = timesVisited\n",
        "  temp_dict[\"cities\"] = places\n",
        "\n",
        "  travel_log.append(temp_dict)\n",
        "\n",
        "\n",
        "\n",
        "\n",
        "\n",
        "#🚨 Do not change the code below\n",
        "add_new_country(\"Russia\", 2, [\"Moscow\", \"Saint Petersburg\"])\n",
        "print(travel_log)"
      ],
      "metadata": {
        "colab": {
          "base_uri": "https://localhost:8080/"
        },
        "id": "M4y7LCrdDKW3",
        "outputId": "cbe50afd-1c4d-4ef1-9743-63806ca0b1dd"
      },
      "execution_count": 2,
      "outputs": [
        {
          "output_type": "stream",
          "name": "stdout",
          "text": [
            "[{'country': 'France', 'visits': 12, 'cities': ['Paris', 'Lille', 'Dijon']}, {'country': 'Germany', 'visits': 5, 'cities': ['Berlin', 'Hamburg', 'Stuttgart']}, {'country': 'Russia', 'visits': 2, 'cities': ['Moscow', 'Saint Petersburg']}]\n"
          ]
        }
      ]
    },
    {
      "cell_type": "code",
      "source": [
        "## MAIN PROJECT\n",
        "#from replit import clear\n",
        "#HINT: You can call clear() to clear the output in the console.\n",
        "import os\n",
        "import art\n",
        "art.logo\n",
        "\n",
        "participants = {}\n",
        "\n",
        "player = input(\"What is your name?\")\n",
        "bid = int(input(\"Please enter bid amount: $\"))\n",
        "participants[player] = bid\n",
        "\n",
        "while True:\n",
        "  #clear()\n",
        "  os.system(\"cls\")\n",
        "  choice = input(\"Type 'yes' if there are other participants or 'no' to see results.\\n\")\n",
        "  if(choice == 'yes'):\n",
        "    player = input(\"What is your name?\")\n",
        "    bid = int(input(\"Please enter bid amount: $\"))\n",
        "    participants[player] = bid\n",
        "  else:\n",
        "    break\n",
        "\n",
        "highest = 0\n",
        "for key in participants:\n",
        "  if participants[key] > highest:\n",
        "    highest = participants[key]\n",
        "    winner = key\n",
        "\n",
        "print(\"The winner of the auction is: \"+winner+\" with $\"+str(highest))"
      ],
      "metadata": {
        "colab": {
          "base_uri": "https://localhost:8080/"
        },
        "id": "-a4lHNZkDO6c",
        "outputId": "fd622a9d-8e9a-4b0a-d9f4-cdca0257382d"
      },
      "execution_count": 3,
      "outputs": [
        {
          "output_type": "stream",
          "name": "stdout",
          "text": [
            "What is your name?Kushagra\n",
            "Please enter bid amount: $14\n",
            "Type 'yes' if there are other participants or 'no' to see results.\n",
            "yes\n",
            "What is your name?Neo\n",
            "Please enter bid amount: $105\n",
            "Type 'yes' if there are other participants or 'no' to see results.\n",
            "no\n",
            "The winner of the auction is: Neo with $105\n"
          ]
        }
      ]
    }
  ]
}