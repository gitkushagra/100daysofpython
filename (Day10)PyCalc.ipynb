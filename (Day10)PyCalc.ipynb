{
  "nbformat": 4,
  "nbformat_minor": 0,
  "metadata": {
    "colab": {
      "name": "PyCalc.ipynb",
      "provenance": [],
      "collapsed_sections": [],
      "authorship_tag": "ABX9TyOXrgZ79E2hxVuruyrVBaCx",
      "include_colab_link": true
    },
    "kernelspec": {
      "name": "python3",
      "display_name": "Python 3"
    },
    "language_info": {
      "name": "python"
    }
  },
  "cells": [
    {
      "cell_type": "markdown",
      "metadata": {
        "id": "view-in-github",
        "colab_type": "text"
      },
      "source": [
        "<a href=\"https://colab.research.google.com/github/gitkushagra/100daysofpython/blob/main/(Day10)PyCalc.ipynb\" target=\"_parent\"><img src=\"https://colab.research.google.com/assets/colab-badge.svg\" alt=\"Open In Colab\"/></a>"
      ]
    },
    {
      "cell_type": "code",
      "execution_count": 1,
      "metadata": {
        "colab": {
          "base_uri": "https://localhost:8080/"
        },
        "id": "GRAD6prsDpj0",
        "outputId": "dcc653b5-8691-490b-d80b-61e9b2d7e0ea"
      },
      "outputs": [
        {
          "output_type": "stream",
          "name": "stdout",
          "text": [
            "Enter Your First Name: Kushagar\n",
            "Enter Your Last Name: Singh\n",
            "Kushagar Singh\n"
          ]
        }
      ],
      "source": [
        "# Formatting names\n",
        "\n",
        "def format_name(fname,lname):\n",
        "  fname = fname.title()\n",
        "  lname = lname.title()\n",
        "  name = fname+\" \"+lname\n",
        "  return name\n",
        "\n",
        "firstname = input(\"Enter Your First Name: \")\n",
        "lastname = input(\"Enter Your Last Name: \")\n",
        "\n",
        "result = format_name(firstname, lastname)\n",
        "print(result)"
      ]
    },
    {
      "cell_type": "code",
      "source": [
        "# Modifying functions\n",
        "def is_leap(year):\n",
        "  if((year % 4 == 0 and year%100 != 0) or year%400 == 0):\n",
        "    return True\n",
        "  else:\n",
        "    return False\n",
        "\n",
        "def days_in_month(year,month):\n",
        "  month_days = [31, 28, 31, 30, 31, 30, 31, 31, 30, 31, 30, 31]\n",
        "  condition = is_leap(year)\n",
        "  if condition:\n",
        "    month_days[1] = month_days[1]+1\n",
        "  return month_days[month-1]\n",
        "  \n",
        "#🚨 Do NOT change any of the code below \n",
        "year = int(input(\"Enter a year: \"))\n",
        "month = int(input(\"Enter a month: \"))\n",
        "days = days_in_month(year, month)\n",
        "print(days)"
      ],
      "metadata": {
        "colab": {
          "base_uri": "https://localhost:8080/"
        },
        "id": "T31rZcMcD60k",
        "outputId": "fa7b1189-3795-4809-8ef6-c38cabf5e2e1"
      },
      "execution_count": 2,
      "outputs": [
        {
          "output_type": "stream",
          "name": "stdout",
          "text": [
            "Enter a year: 2014\n",
            "Enter a month: 2\n",
            "28\n"
          ]
        }
      ]
    },
    {
      "cell_type": "code",
      "source": [
        "## MAIN PROJECT\n",
        "\n",
        "def add(n1,n2):\n",
        "  return n1+n2\n",
        "\n",
        "def sub(n1,n2):\n",
        "  return n1-n2\n",
        "\n",
        "\n",
        "def mult(n1,n2):\n",
        "  return n1*n2\n",
        "\n",
        "\n",
        "def divide(n1,n2):\n",
        "  return n1/n2\n",
        "\n",
        "\n",
        "operations = {\n",
        "  \"+\": add,\n",
        "  \"-\": sub,\n",
        "  \"*\": mult,\n",
        "  \"/\": divide,\n",
        "}\n",
        "\n",
        "num1 = float(input(\"Enter First Number: \"))\n",
        "print(\"Choose operation: \")\n",
        "for key in operations:\n",
        "  print(key)\n",
        "\n",
        "while True:\n",
        "    choice = input(\"Enter symbol: \")\n",
        "    num2 = float(input(\"Enter Next Number: \"))\n",
        "    answer = operations[choice](num1,num2)\n",
        "\n",
        "    print(f\"{num1} {choice} {num2} = {answer}\")\n",
        "\n",
        "    if input(f\"Type 'y' to do some operation with {answer} or 'n' to stop!\\n\") == 'y':\n",
        "      num1 = answer\n",
        "      continue\n",
        "    else:\n",
        "      break"
      ],
      "metadata": {
        "colab": {
          "base_uri": "https://localhost:8080/"
        },
        "id": "QdPLUfYzEEI0",
        "outputId": "12df755c-3729-4a6e-b1fb-34078e0922eb"
      },
      "execution_count": 3,
      "outputs": [
        {
          "name": "stdout",
          "output_type": "stream",
          "text": [
            "Enter First Number: 2\n",
            "Choose operation: \n",
            "+\n",
            "-\n",
            "*\n",
            "/\n",
            "Enter symbol: +\n",
            "Enter Next Number: 3.5\n",
            "2.0 + 3.5 = 5.5\n",
            "Type 'y' to do some operation with 5.5 or 'n' to stop!\n",
            "y\n",
            "Enter symbol: *\n",
            "Enter Next Number: 14\n",
            "5.5 * 14.0 = 77.0\n",
            "Type 'y' to do some operation with 77.0 or 'n' to stop!\n",
            "y\n",
            "Enter symbol: /\n",
            "Enter Next Number: 3.5\n",
            "77.0 / 3.5 = 22.0\n",
            "Type 'y' to do some operation with 22.0 or 'n' to stop!\n",
            "n\n"
          ]
        }
      ]
    }
  ]
}