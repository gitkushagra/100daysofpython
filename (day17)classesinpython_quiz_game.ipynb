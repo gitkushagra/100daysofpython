{
  "nbformat": 4,
  "nbformat_minor": 0,
  "metadata": {
    "colab": {
      "name": "classesinpython-quiz game.ipynb",
      "provenance": [],
      "collapsed_sections": [],
      "authorship_tag": "ABX9TyPju1sMrFOwWlj4y7lnQhaX",
      "include_colab_link": true
    },
    "kernelspec": {
      "name": "python3",
      "display_name": "Python 3"
    },
    "language_info": {
      "name": "python"
    }
  },
  "cells": [
    {
      "cell_type": "markdown",
      "metadata": {
        "id": "view-in-github",
        "colab_type": "text"
      },
      "source": [
        "<a href=\"https://colab.research.google.com/github/gitkushagra/100daysofpython/blob/main/(day17)classesinpython_quiz_game.ipynb\" target=\"_parent\"><img src=\"https://colab.research.google.com/assets/colab-badge.svg\" alt=\"Open In Colab\"/></a>"
      ]
    },
    {
      "cell_type": "code",
      "execution_count": 5,
      "metadata": {
        "colab": {
          "base_uri": "https://localhost:8080/"
        },
        "id": "k63WiNXjj9_u",
        "outputId": "8019199f-763d-4daf-873d-2d4985ca7d52"
      },
      "outputs": [
        {
          "output_type": "stream",
          "name": "stdout",
          "text": [
            "New user is being created\n",
            "1\n"
          ]
        }
      ],
      "source": [
        "class User:\n",
        "  def __init__(self): #Constructor\n",
        "    print(\"New user is being created\")\n",
        "\n",
        "user1 = User()\n",
        "user1.id=\"1\"\n",
        "user1.name=\"Harsh\"\n",
        "print(user1.id)\n"
      ]
    },
    {
      "cell_type": "code",
      "source": [
        "class User:\n",
        "  def __init__(self,user_id,username):\n",
        "    self.id=user_id\n",
        "    self.username = username\n",
        "\n",
        "user_1= User(\"001\",\"Kushagra\")\n",
        "user_2 = User(\"002\",\"Harsh\")\n",
        "\n",
        "print(user_1.id)\n",
        "print(user_2.username)\n"
      ],
      "metadata": {
        "colab": {
          "base_uri": "https://localhost:8080/"
        },
        "id": "budkKdxBdi6m",
        "outputId": "af77c2c8-863a-4414-e948-352fd8a3dd11"
      },
      "execution_count": 4,
      "outputs": [
        {
          "output_type": "stream",
          "name": "stdout",
          "text": [
            "001\n",
            "Harsh\n"
          ]
        }
      ]
    },
    {
      "cell_type": "code",
      "source": [
        "class User:\n",
        "  def __init__(self,user_id,username):\n",
        "    self.id=user_id\n",
        "    self.username = username\n",
        "    self.followers=0\n",
        "    self.following=0\n",
        "\n",
        "  def follow(self,user):\n",
        "    user.followers += 1\n",
        "    user.following += 1\n",
        "\n",
        "user1 = User(\"001\",\"Kushagra\")\n",
        "user2 = User(\"002\",\"Harsh\")\n",
        "\n",
        "user1.follow(user2)\n",
        "print(user1.followers)\n",
        "print(user1.following)\n",
        "print(user2.followers)\n",
        "print(user2.following)"
      ],
      "metadata": {
        "colab": {
          "base_uri": "https://localhost:8080/"
        },
        "id": "HAWE1BR9flWD",
        "outputId": "6863b2aa-702d-4b65-8c5e-1d6b856306ae"
      },
      "execution_count": 8,
      "outputs": [
        {
          "output_type": "stream",
          "name": "stdout",
          "text": [
            "0\n",
            "0\n",
            "1\n",
            "1\n"
          ]
        }
      ]
    },
    {
      "cell_type": "code",
      "source": [
        "from question_model import Question\n",
        "from data import question_data\n",
        "from quiz_brain import QuizBrain\n",
        "\n",
        "question_bank = []\n",
        "for question in question_data:\n",
        "    question_text = question['text']\n",
        "    question_answer = question['answer']\n",
        "    new_question = Question(question_text, question_answer)\n",
        "    question_bank.append(new_question)\n",
        "\n",
        "quiz = QuizBrain(question_bank)\n",
        "\n",
        "while quiz.still_has_questions():\n",
        "    quiz.next_question()\n",
        "\n",
        "print(f\"Thanks for completing that!\\nYour final score is: {quiz.score}/{quiz.question_number}\")"
      ],
      "metadata": {
        "colab": {
          "base_uri": "https://localhost:8080/"
        },
        "id": "SAihvmJZxZCh",
        "outputId": "e7dce0e2-c059-4643-9da4-1e122acf9421"
      },
      "execution_count": 9,
      "outputs": [
        {
          "output_type": "stream",
          "name": "stdout",
          "text": [
            "Q.1: A slug's blood is green. (True/False)True\n",
            "You got it right!\n",
            "The correct answer was: True.\n",
            "Your current score is 1/1.\n",
            "\n",
            "\n",
            "Q.2: The loudest animal is the African Elephant. (True/False)False\n",
            "You got it right!\n",
            "The correct answer was: False.\n",
            "Your current score is 2/2.\n",
            "\n",
            "\n",
            "Q.3: Approximately one quarter of human bones are in the feet. (True/False)False\n",
            "That's incorrect\n",
            "The correct answer was: True.\n",
            "Your current score is 2/3.\n",
            "\n",
            "\n",
            "Q.4: The total surface area of a human lungs is the size of a football pitch. (True/False)True\n",
            "You got it right!\n",
            "The correct answer was: True.\n",
            "Your current score is 3/4.\n",
            "\n",
            "\n",
            "Q.5: In West Virginia, USA, if you accidentally hit an animal with your car, you are free to take it home to eat. (True/False)False\n",
            "That's incorrect\n",
            "The correct answer was: True.\n",
            "Your current score is 3/5.\n",
            "\n",
            "\n",
            "Q.6: In London, UK, if you happen to die in the House of Parliament, you are entitled to a state funeral. (True/False)True\n",
            "That's incorrect\n",
            "The correct answer was: False.\n",
            "Your current score is 3/6.\n",
            "\n",
            "\n",
            "Q.7: It is illegal to pee in the Ocean in Portugal. (True/False)True\n",
            "You got it right!\n",
            "The correct answer was: True.\n",
            "Your current score is 4/7.\n",
            "\n",
            "\n",
            "Q.8: You can lead a cow down stairs but not up stairs. (True/False)False\n",
            "You got it right!\n",
            "The correct answer was: False.\n",
            "Your current score is 5/8.\n",
            "\n",
            "\n",
            "Q.9: Google was originally called 'Backrub'. (True/False)True\n",
            "You got it right!\n",
            "The correct answer was: True.\n",
            "Your current score is 6/9.\n",
            "\n",
            "\n",
            "Q.10: Buzz Aldrin's mother's maiden name was 'Moon'. (True/False)False\n",
            "That's incorrect\n",
            "The correct answer was: True.\n",
            "Your current score is 6/10.\n",
            "\n",
            "\n",
            "Q.11: No piece of square dry paper can be folded in half more than 7 times. (True/False)True\n",
            "That's incorrect\n",
            "The correct answer was: False.\n",
            "Your current score is 6/11.\n",
            "\n",
            "\n",
            "Q.12: A few ounces of chocolate can to kill a small dog. (True/False)True\n",
            "You got it right!\n",
            "The correct answer was: True.\n",
            "Your current score is 7/12.\n",
            "\n",
            "\n",
            "Thanks for completing that!\n",
            "Your final score is: 7/12\n"
          ]
        }
      ]
    }
  ]
}